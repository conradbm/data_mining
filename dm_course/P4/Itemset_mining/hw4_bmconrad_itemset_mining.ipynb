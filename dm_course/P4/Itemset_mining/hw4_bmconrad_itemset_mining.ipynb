{
 "cells": [
  {
   "cell_type": "code",
   "execution_count": 101,
   "metadata": {
    "collapsed": false,
    "deletable": true,
    "editable": true
   },
   "outputs": [
    {
     "name": "stdout",
     "output_type": "stream",
     "text": [
      "Top 10 Highest Support frequent itemsets\n",
      "Itemset:  [6]   Support:  77.6316\n",
      "Itemset:  [16]   Support:  64.4737\n",
      "Itemset:  [200]   Support:  63.1579\n",
      "Itemset:  [2]   Support:  60.5263\n",
      "Itemset:  [5]   Support:  59.2105\n",
      "Itemset:  [5, 6]   Support:  57.8947\n",
      "Itemset:  [14]   Support:  56.5789\n",
      "Itemset:  [13]   Support:  56.5789\n",
      "Itemset:  [3]   Support:  55.2632\n",
      "Itemset:  [6, 14]   Support:  53.9474\n"
     ]
    }
   ],
   "source": [
    "from __future__ import division\n",
    "\n",
    "f = open(\"test1.txt\", \"r\")\n",
    "lines = f.readlines()\n",
    "d_imp_sup={}\n",
    "count=0\n",
    "for line in lines:\n",
    "    newline =line.strip(\"\\n\").split(\" \")\n",
    "    imps = map(int, newline[:-1])\n",
    "    imps = sorted(imps, key=int)\n",
    "    d_imp_sup[count]= (float(newline[-1].strip(\"(\").strip(\")\")), imps)\n",
    "    count+=1\n",
    "\n",
    "\n",
    "d_imp_sup = sorted(d_imp_sup.items(), key=lambda x: x[1], reverse=True)\n",
    "print \"Top 10 Highest Support frequent itemsets\\n\", \n",
    "for tup in d_imp_sup[:10]:\n",
    "    print 'Itemset: ', tup[1][1],\" \",\"Support: \" ,tup[1][0]\n"
   ]
  },
  {
   "cell_type": "code",
   "execution_count": 102,
   "metadata": {
    "collapsed": false,
    "deletable": true,
    "editable": true
   },
   "outputs": [
    {
     "name": "stdout",
     "output_type": "stream",
     "text": [
      "Number of frequnt itemsets:  448\n",
      "Number of frequent itemsets with 100:  96\n",
      "Number of frequent itemsets with 200:  90\n"
     ]
    }
   ],
   "source": [
    "print \"Number of frequnt itemsets: \", len(d_imp_sup)\n",
    "\n",
    "itemSets100Head=[]\n",
    "itemSets200Head=[]\n",
    "for tup in d_imp_sup:\n",
    "    #print tup[0], tup[1][1]\n",
    "    \n",
    "    if 100 in tup[1][1]:\n",
    "        itemSets100Head.append(tup[1][1])\n",
    "    elif 200 in tup[1][1]:\n",
    "        itemSets200Head.append(tup[1][1])\n",
    "print \"Number of frequent itemsets with 100: \", len(itemSets100Head)\n",
    "print \"Number of frequent itemsets with 200: \", len(itemSets200Head)"
   ]
  },
  {
   "cell_type": "code",
   "execution_count": 118,
   "metadata": {
    "collapsed": false,
    "deletable": true,
    "editable": true
   },
   "outputs": [
    {
     "name": "stdout",
     "output_type": "stream",
     "text": [
      "Top 10 association rules with 200 as head:  itemset:  [3, 9, 200] confidence:  0.466666666667\n",
      "itemset:  [9, 200] confidence:  0.441176470588\n",
      "itemset:  [8, 9, 200] confidence:  0.4375\n",
      "itemset:  [15, 200] confidence:  0.428571428571\n",
      "itemset:  [3, 8, 9, 200] confidence:  0.428571428571\n",
      "itemset:  [1, 9, 200] confidence:  0.428571428571\n",
      "itemset:  [1, 7, 200] confidence:  0.428571428571\n",
      "itemset:  [3, 8, 200] confidence:  0.425\n",
      "itemset:  [8, 200] confidence:  0.416666666667\n",
      "itemset:  [3, 16, 200] confidence:  0.416666666667\n"
     ]
    }
   ],
   "source": [
    "itemSets100Head[0]\n",
    "\n",
    "\n",
    "confs={}\n",
    "counter=0\n",
    "for ls in itemSets200Head:\n",
    "    hits=[]\n",
    "    hits2=[]\n",
    "    #print 'sup of: ', ls[:], \n",
    "    for tup in d_imp_sup:\n",
    "        if set(ls) < set(tup[1][1]):\n",
    "            hits.append(tup[1][1])\n",
    "    #print len(hits)\n",
    "    \n",
    "    #print 'sup of:', ls[:-1],\n",
    "    \n",
    "    for tup in d_imp_sup:\n",
    "        if set(ls[:-1]) < set(tup[1][1]):\n",
    "            hits2.append(tup[1][1])\n",
    "            \n",
    "    #print len(hits2)\n",
    "    conf = len(hits)/len(hits2)\n",
    "    confs[counter]=(ls[:], conf)\n",
    "    #print 'conf of ', ls[:], \"= \", conf)\n",
    "    counter+=1\n",
    "    \n",
    "vals= sorted(confs.items(), key=lambda x: x[1][1], reverse=True)\n",
    "vals\n",
    "\n",
    "print 'Top 10 association rules with 200 as head: ', \n",
    "\n",
    "for tup in vals[:10]:\n",
    "    print 'itemset: ', tup[1][0], \"confidence: \", tup[1][1]"
   ]
  },
  {
   "cell_type": "code",
   "execution_count": null,
   "metadata": {
    "collapsed": true,
    "deletable": true,
    "editable": true
   },
   "outputs": [],
   "source": []
  }
 ],
 "metadata": {
  "kernelspec": {
   "display_name": "Python 2",
   "language": "python",
   "name": "python2"
  },
  "language_info": {
   "codemirror_mode": {
    "name": "ipython",
    "version": 2
   },
   "file_extension": ".py",
   "mimetype": "text/x-python",
   "name": "python",
   "nbconvert_exporter": "python",
   "pygments_lexer": "ipython2",
   "version": "2.7.10"
  }
 },
 "nbformat": 4,
 "nbformat_minor": 2
}
