{
 "cells": [
  {
   "cell_type": "code",
   "execution_count": 47,
   "metadata": {
    "collapsed": true
   },
   "outputs": [],
   "source": [
    "import sys\n",
    "import os\n",
    "import scipy\n",
    "import sklearn\n",
    "import pandas as pd\n",
    "import numpy as np\n",
    "from sklearn.svm import SVC\n",
    "from sklearn.metrics import confusion_matrix\n",
    "from sklearn.metrics import accuracy_score"
   ]
  },
  {
   "cell_type": "code",
   "execution_count": 112,
   "metadata": {
    "collapsed": false
   },
   "outputs": [
    {
     "data": {
      "text/html": [
       "<div>\n",
       "<table border=\"1\" class=\"dataframe\">\n",
       "  <thead>\n",
       "    <tr style=\"text-align: right;\">\n",
       "      <th></th>\n",
       "      <th>0</th>\n",
       "      <th>1</th>\n",
       "      <th>2</th>\n",
       "      <th>3</th>\n",
       "      <th>4</th>\n",
       "      <th>5</th>\n",
       "      <th>6</th>\n",
       "      <th>7</th>\n",
       "      <th>8</th>\n",
       "      <th>9</th>\n",
       "      <th>10</th>\n",
       "      <th>11</th>\n",
       "      <th>12</th>\n",
       "      <th>13</th>\n",
       "      <th>14</th>\n",
       "      <th>15</th>\n",
       "      <th>16</th>\n",
       "    </tr>\n",
       "  </thead>\n",
       "  <tbody>\n",
       "    <tr>\n",
       "      <th>0</th>\n",
       "      <td>republican</td>\n",
       "      <td>-1</td>\n",
       "      <td>1</td>\n",
       "      <td>-1</td>\n",
       "      <td>1</td>\n",
       "      <td>1</td>\n",
       "      <td>1</td>\n",
       "      <td>-1</td>\n",
       "      <td>-1</td>\n",
       "      <td>-1</td>\n",
       "      <td>1</td>\n",
       "      <td>0</td>\n",
       "      <td>1</td>\n",
       "      <td>1</td>\n",
       "      <td>1</td>\n",
       "      <td>-1</td>\n",
       "      <td>1</td>\n",
       "    </tr>\n",
       "    <tr>\n",
       "      <th>1</th>\n",
       "      <td>republican</td>\n",
       "      <td>-1</td>\n",
       "      <td>1</td>\n",
       "      <td>-1</td>\n",
       "      <td>1</td>\n",
       "      <td>1</td>\n",
       "      <td>1</td>\n",
       "      <td>-1</td>\n",
       "      <td>-1</td>\n",
       "      <td>-1</td>\n",
       "      <td>-1</td>\n",
       "      <td>-1</td>\n",
       "      <td>1</td>\n",
       "      <td>1</td>\n",
       "      <td>1</td>\n",
       "      <td>-1</td>\n",
       "      <td>0</td>\n",
       "    </tr>\n",
       "    <tr>\n",
       "      <th>2</th>\n",
       "      <td>democrat</td>\n",
       "      <td>0</td>\n",
       "      <td>1</td>\n",
       "      <td>1</td>\n",
       "      <td>0</td>\n",
       "      <td>1</td>\n",
       "      <td>1</td>\n",
       "      <td>-1</td>\n",
       "      <td>-1</td>\n",
       "      <td>-1</td>\n",
       "      <td>-1</td>\n",
       "      <td>1</td>\n",
       "      <td>-1</td>\n",
       "      <td>1</td>\n",
       "      <td>1</td>\n",
       "      <td>-1</td>\n",
       "      <td>-1</td>\n",
       "    </tr>\n",
       "    <tr>\n",
       "      <th>3</th>\n",
       "      <td>democrat</td>\n",
       "      <td>-1</td>\n",
       "      <td>1</td>\n",
       "      <td>1</td>\n",
       "      <td>-1</td>\n",
       "      <td>0</td>\n",
       "      <td>1</td>\n",
       "      <td>-1</td>\n",
       "      <td>-1</td>\n",
       "      <td>-1</td>\n",
       "      <td>-1</td>\n",
       "      <td>1</td>\n",
       "      <td>-1</td>\n",
       "      <td>1</td>\n",
       "      <td>-1</td>\n",
       "      <td>-1</td>\n",
       "      <td>1</td>\n",
       "    </tr>\n",
       "    <tr>\n",
       "      <th>4</th>\n",
       "      <td>democrat</td>\n",
       "      <td>1</td>\n",
       "      <td>1</td>\n",
       "      <td>1</td>\n",
       "      <td>-1</td>\n",
       "      <td>1</td>\n",
       "      <td>1</td>\n",
       "      <td>-1</td>\n",
       "      <td>-1</td>\n",
       "      <td>-1</td>\n",
       "      <td>-1</td>\n",
       "      <td>1</td>\n",
       "      <td>0</td>\n",
       "      <td>1</td>\n",
       "      <td>1</td>\n",
       "      <td>1</td>\n",
       "      <td>1</td>\n",
       "    </tr>\n",
       "  </tbody>\n",
       "</table>\n",
       "</div>"
      ],
      "text/plain": [
       "           0   1  2   3   4  5  6   7   8   9   10  11  12 13  14  15  16\n",
       "0  republican  -1  1  -1   1  1  1  -1  -1  -1   1   0   1  1   1  -1   1\n",
       "1  republican  -1  1  -1   1  1  1  -1  -1  -1  -1  -1   1  1   1  -1   0\n",
       "2    democrat   0  1   1   0  1  1  -1  -1  -1  -1   1  -1  1   1  -1  -1\n",
       "3    democrat  -1  1   1  -1  0  1  -1  -1  -1  -1   1  -1  1  -1  -1   1\n",
       "4    democrat   1  1   1  -1  1  1  -1  -1  -1  -1   1   0  1   1   1   1"
      ]
     },
     "execution_count": 112,
     "metadata": {},
     "output_type": "execute_result"
    }
   ],
   "source": [
    "f = open(\"house-votes-84.data.txt\",\"r\")\n",
    "\n",
    "rows=[]\n",
    "lines = f.readlines()\n",
    "for line in lines:\n",
    "    arow = line.strip(\"\\n\").split(\",\")\n",
    "    for j in range(len(arow)):\n",
    "        if arow[j] is 'y':\n",
    "            arow[j] = \"1\"\n",
    "        elif arow[j] is 'n':\n",
    "            arow[j] = \"-1\"\n",
    "        elif arow[j] is '?':\n",
    "            arow[j] = \"0\"\n",
    "    rows.append(arow)\n",
    "\n",
    "    \n",
    "# After you run this go delete the first line of the file then run getFolds.sh\n",
    "main_df = pd.DataFrame(rows)\n",
    "main_df.to_csv(\"CLEANED-house-votes-84.data.txt\", sep=\",\")\n",
    "\n",
    "main_df.head()"
   ]
  },
  {
   "cell_type": "code",
   "execution_count": 129,
   "metadata": {
    "collapsed": false
   },
   "outputs": [
    {
     "name": "stdout",
     "output_type": "stream",
     "text": [
      "[[68  1]\n",
      " [ 2 38]]\n",
      "0.97247706422\n"
     ]
    }
   ],
   "source": [
    "# Get accuracy of the first fold\n",
    "\n",
    "df_test1 = pd.read_csv(\"test1.txt\", sep=\",\", names=[str(i) for i in range(18)])\n",
    "df_train1 = pd.read_csv(\"train1.txt\", sep=\",\", names=[str(i) for i in range(18)])\n",
    "\n",
    "\n",
    "X = df_train1.ix[:,2:].as_matrix()\n",
    "y = df_train1.ix[:,1].as_matrix()\n",
    "\n",
    "x0 = df_test1.ix[:,2:].as_matrix()\n",
    "y_true = df_test1.ix[:,1].as_matrix()\n",
    "\n",
    "clf = SVC(C=1.0,kernel='linear')\n",
    "\"\"\"\n",
    "This code snippet lets you use the Gaussian kernel with a specified gamma and C\n",
    "SVC(C=1.0, cache_size=200, class_weight=None, coef0=0.0,\n",
    "    decision_function_shape=None, degree=3, gamma='auto', kernel='rbf',\n",
    "    max_iter=-1, probability=False, random_state=None, shrinking=True,\n",
    "    tol=0.001, verbose=False)\n",
    "    \n",
    "This code snippet allows for a linear kernel\n",
    "SVC(C=1.0,kernel='linear')\n",
    "\"\"\"\n",
    "clf.fit(X, y) \n",
    "\n",
    "y_pred = clf.predict(x0)\n",
    "\n",
    "\n",
    "\n",
    "print confusion_matrix(y_true, y_pred)\n",
    "print accuracy_score(y_true, y_pred)\n",
    "acc1 = accuracy_score(y_true, y_pred)"
   ]
  },
  {
   "cell_type": "code",
   "execution_count": null,
   "metadata": {
    "collapsed": false
   },
   "outputs": [],
   "source": []
  },
  {
   "cell_type": "code",
   "execution_count": 131,
   "metadata": {
    "collapsed": false
   },
   "outputs": [
    {
     "name": "stdout",
     "output_type": "stream",
     "text": [
      "[[64  4]\n",
      " [ 0 41]]\n",
      "0.963302752294\n"
     ]
    }
   ],
   "source": [
    "# Get the accuracy of the second fold\n",
    "\n",
    "df_test2 = pd.read_csv(\"test2.txt\", sep=\",\", names=[str(i) for i in range(18)])\n",
    "df_train2 = pd.read_csv(\"train2.txt\", sep=\",\", names=[str(i) for i in range(18)])\n",
    "\n",
    "\n",
    "X = df_train2.ix[:,2:].as_matrix()\n",
    "y = df_train2.ix[:,1].as_matrix()\n",
    "\n",
    "x0 = df_test2.ix[:,2:].as_matrix()\n",
    "y_true = df_test2.ix[:,1].as_matrix()\n",
    "\n",
    "clf = SVC(C=1.0,kernel='linear')\n",
    "clf.fit(X, y) \n",
    "\n",
    "y_pred = clf.predict(x0)\n",
    "\n",
    "\n",
    "from sklearn.metrics import confusion_matrix\n",
    "from sklearn.metrics import accuracy_score\n",
    "print confusion_matrix(y_true, y_pred)\n",
    "print accuracy_score(y_true, y_pred)\n",
    "acc2 = accuracy_score(y_true, y_pred)"
   ]
  },
  {
   "cell_type": "code",
   "execution_count": null,
   "metadata": {
    "collapsed": true
   },
   "outputs": [],
   "source": []
  },
  {
   "cell_type": "code",
   "execution_count": 133,
   "metadata": {
    "collapsed": false
   },
   "outputs": [
    {
     "name": "stdout",
     "output_type": "stream",
     "text": [
      "[[64  1]\n",
      " [ 4 40]]\n",
      "0.954128440367\n"
     ]
    }
   ],
   "source": [
    "# Get the accuracy of the third fold\n",
    "\n",
    "df_test3 = pd.read_csv(\"test3.txt\", sep=\",\", names=[str(i) for i in range(18)])\n",
    "df_train3 = pd.read_csv(\"train3.txt\", sep=\",\", names=[str(i) for i in range(18)])\n",
    "\n",
    "X = df_train3.ix[:,2:].as_matrix()\n",
    "y = df_train3.ix[:,1].as_matrix()\n",
    "\n",
    "x0 = df_test3.ix[:,2:].as_matrix()\n",
    "y_true = df_test3.ix[:,1].as_matrix()\n",
    "\n",
    "clf = SVC(C=1.0,kernel='linear')\n",
    "clf.fit(X, y) \n",
    "\n",
    "y_pred = clf.predict(x0)\n",
    "\n",
    "from sklearn.metrics import confusion_matrix\n",
    "from sklearn.metrics import accuracy_score\n",
    "print confusion_matrix(y_true, y_pred)\n",
    "print accuracy_score(y_true, y_pred)\n",
    "acc3 = accuracy_score(y_true, y_pred)"
   ]
  },
  {
   "cell_type": "code",
   "execution_count": 107,
   "metadata": {
    "collapsed": false
   },
   "outputs": [
    {
     "name": "stdout",
     "output_type": "stream",
     "text": [
      "0.957186544343\n",
      "0.00432481211735\n"
     ]
    }
   ],
   "source": [
    "accs = [acc1, acc2, acc3]\n",
    "print np.mean(accs)\n",
    "print np.std(accs)"
   ]
  },
  {
   "cell_type": "code",
   "execution_count": 134,
   "metadata": {
    "collapsed": false
   },
   "outputs": [
    {
     "name": "stdout",
     "output_type": "stream",
     "text": [
      "The best parameters are {'C': 10.0, 'gamma': 0.01} with a score of 0.98\n"
     ]
    }
   ],
   "source": [
    "from sklearn.model_selection import StratifiedShuffleSplit\n",
    "from sklearn.model_selection import GridSearchCV\n",
    "\n",
    "\n",
    "C_range = np.logspace(-2, 10, 13)\n",
    "gamma_range = np.logspace(-9, 3, 13)\n",
    "param_grid = dict(gamma=gamma_range, C=C_range)\n",
    "cv = StratifiedShuffleSplit(n_splits=5, test_size=0.2, random_state=42)\n",
    "grid = GridSearchCV(SVC(), param_grid=param_grid, cv=cv)\n",
    "grid.fit(X, y)\n",
    "\n",
    "print(\"The best parameters are %s with a score of %0.2f\"\n",
    "      % (grid.best_params_, grid.best_score_))\n"
   ]
  },
  {
   "cell_type": "code",
   "execution_count": 121,
   "metadata": {
    "collapsed": false
   },
   "outputs": [],
   "source": [
    "df_validate = pd.read_csv(\"validate.txt\", sep=\",\", names=[str(i) for i in range(18)])\n",
    "X_2d = df_validate.ix[:,3:].as_matrix()\n",
    "y_2d = df_validate.ix[:,2].as_matrix()"
   ]
  },
  {
   "cell_type": "code",
   "execution_count": null,
   "metadata": {
    "collapsed": true
   },
   "outputs": [],
   "source": []
  }
 ],
 "metadata": {
  "kernelspec": {
   "display_name": "Python 2",
   "language": "python",
   "name": "python2"
  },
  "language_info": {
   "codemirror_mode": {
    "name": "ipython",
    "version": 2
   },
   "file_extension": ".py",
   "mimetype": "text/x-python",
   "name": "python",
   "nbconvert_exporter": "python",
   "pygments_lexer": "ipython2",
   "version": "2.7.10"
  }
 },
 "nbformat": 4,
 "nbformat_minor": 2
}
