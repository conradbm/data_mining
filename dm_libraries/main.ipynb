{
 "cells": [
  {
   "cell_type": "code",
   "execution_count": 26,
   "metadata": {
    "collapsed": false,
    "deletable": true,
    "editable": true
   },
   "outputs": [],
   "source": [
    "import numpy as np\n",
    "import pandas as pd\n",
    "import sys\n",
    "import random\n"
   ]
  },
  {
   "cell_type": "code",
   "execution_count": 36,
   "metadata": {
    "collapsed": false,
    "deletable": true,
    "editable": true
   },
   "outputs": [
    {
     "name": "stdout",
     "output_type": "stream",
     "text": [
      "Training Data File Name: data/iris-shuffled.txt\n",
      "Folds Created.\n",
      "Training Rows:  105\n",
      "Testing Rows:  45\n",
      "   Septal Length  Septal Width  Pedal Length  Pedal Width      Flower Type\n",
      "0            7.2           3.2           6.0          1.8   Iris-virginica\n",
      "1            5.4           3.0           4.5          1.5  Iris-versicolor\n",
      "2            5.7           2.9           4.2          1.3  Iris-versicolor\n",
      "4            4.8           3.4           1.9          0.2      Iris-setosa\n",
      "5            6.6           3.0           4.4          1.4  Iris-versicolor\n",
      "     Septal Length  Septal Width  Pedal Length  Pedal Width      Flower Type\n",
      "29             6.9           3.1           5.1          2.3   Iris-virginica\n",
      "75             5.8           2.7           4.1          1.0  Iris-versicolor\n",
      "126            5.7           2.8           4.1          1.3  Iris-versicolor\n",
      "39             6.3           2.7           4.9          1.8   Iris-virginica\n",
      "6              6.8           3.2           5.9          2.3   Iris-virginica\n"
     ]
    }
   ],
   "source": [
    "def createFolds(df, p):\n",
    "    # Get 1-p unique sample rows\n",
    "\n",
    "    rows = len(df.ix[:,:])\n",
    "    trainLen = int(rows * p)\n",
    "    testLen = int(rows * (1 - p))\n",
    "    \n",
    "    testRows = random.sample(range(rows), testLen)\n",
    "    trainRows = [i for i in range(rows) if i not in testRows]\n",
    "    \n",
    "    print \"Folds Created.\"\n",
    "    print \"Training Rows: \", len(trainRows)\n",
    "    print \"Testing Rows: \", len(testRows)\n",
    "    return (df.ix[trainRows, :], df.ix[testRows, :])\n",
    "\n",
    "def cross_validate(df_train, df_test):\n",
    "    return\n",
    "\n",
    "def get_accuracy(y_true, y_pred):\n",
    "    return\n",
    "\n",
    "def main():\n",
    "    \n",
    "    # Import Data\n",
    "    trainName = \"data/iris-shuffled.txt\"\n",
    "    #trainName += sys.argv[1] #iris-shuffled.txt\n",
    "\n",
    "    print \"Data File Name:\" , trainName\n",
    "    \n",
    "    # Format Data\n",
    "    df = pd.read_csv(trainName,\n",
    "                          sep=\",\",\n",
    "                          names=[\"Septal Length\",\n",
    "                                \"Septal Width\",\n",
    "                                \"Pedal Length\",\n",
    "                                \"Pedal Width\",\n",
    "                                \"Flower Type\"],\n",
    "                          dtype={'Septal Length':  np.float64,\n",
    "                                 'Septal Width' :  np.float64,\n",
    "                                 'Pedal Length' :  np.float64,\n",
    "                                 'Pedal Width'  :  np.float64})\n",
    "    \n",
    "    # Creates an 80% training set and 20% testing set\n",
    "    df_train, df_test = createFolds(df, 0.7)\n",
    "\n",
    "    print df_train.head()\n",
    "    print df_test.head()\n",
    "    \n",
    "    # Cross validate on a\n",
    "if __name__ == \"__main__\":\n",
    "    main()"
   ]
  },
  {
   "cell_type": "code",
   "execution_count": null,
   "metadata": {
    "collapsed": false,
    "deletable": true,
    "editable": true
   },
   "outputs": [],
   "source": []
  },
  {
   "cell_type": "code",
   "execution_count": null,
   "metadata": {
    "collapsed": true,
    "deletable": true,
    "editable": true
   },
   "outputs": [],
   "source": []
  }
 ],
 "metadata": {
  "kernelspec": {
   "display_name": "Python 2",
   "language": "python",
   "name": "python2"
  },
  "language_info": {
   "codemirror_mode": {
    "name": "ipython",
    "version": 2
   },
   "file_extension": ".py",
   "mimetype": "text/x-python",
   "name": "python",
   "nbconvert_exporter": "python",
   "pygments_lexer": "ipython2",
   "version": "2.7.10"
  }
 },
 "nbformat": 4,
 "nbformat_minor": 2
}
